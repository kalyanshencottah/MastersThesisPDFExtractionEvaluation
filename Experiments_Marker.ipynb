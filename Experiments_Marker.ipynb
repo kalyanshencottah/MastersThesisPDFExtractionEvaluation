{
 "cells": [
  {
   "cell_type": "markdown",
   "id": "c916ec9a-b961-42fa-97fa-66b77f4405ae",
   "metadata": {},
   "source": [
    "# Marker\n",
    "https://github.com/VikParuchuri/marker"
   ]
  },
  {
   "cell_type": "code",
   "execution_count": null,
   "id": "1330b5f4-a02c-4332-91ad-0f260dfed3d9",
   "metadata": {},
   "outputs": [
    {
     "name": "stdout",
     "output_type": "stream",
     "text": [
      "Loaded layout model s3://layout/2025_02_18 on device cpu with dtype torch.float32\n",
      "Loaded texify model s3://texify/2025_02_18 on device cpu with dtype torch.float32\n",
      "Loaded recognition model s3://text_recognition/2025_02_18 on device cpu with dtype torch.float32\n",
      "Loaded table recognition model s3://table_recognition/2025_02_18 on device cpu with dtype torch.float32\n"
     ]
    }
   ],
   "source": [
    "from marker.converters.pdf import PdfConverter\n",
    "from marker.models import create_model_dict\n",
    "from marker.output import text_from_rendered\n",
    "\n",
    "from platformdirs import *\n",
    "from platformdirs import user_cache_dir\n",
    "from pathlib import Path\n",
    "\n",
    "Path(user_cache_dir('datalab')) / \"models\"\n",
    "\n",
    "converter = PdfConverter(\n",
    "    artifact_dict=create_model_dict(),\n",
    ")\n",
    "##rendered = converter(\"../data/PDFs/s43247-024-01914-6-1.pdf\")\n",
    "rendered = converter(\"/mnt/c/Kalyan/MCC/PDFEvaluation/Class1/tested_marker/W4388017235.pdf\")\n",
    "\n",
    "##W96708997 - Getting SSL Error - could be because of proxy, httpsclient. Suggested resolution: bring packages\n",
    "##W4318476928\n",
    "##W4368367511\n",
    "##W4376142115\n",
    "##W4376143159\n",
    "##W4388017235 - 2822 seconds, kernel unable to allocate space\n",
    "##W4388130464\n",
    "##W4389560424\n",
    "##W4391052605\n",
    "##W4391351449\n",
    "\n",
    "text, _, images = text_from_rendered(rendered)"
   ]
  },
  {
   "cell_type": "code",
   "execution_count": null,
   "id": "22107cbd-7504-4580-825f-783ea426777b",
   "metadata": {},
   "outputs": [],
   "source": [
    "text[:200]"
   ]
  },
  {
   "cell_type": "code",
   "execution_count": null,
   "id": "9f6af104-0026-4dd7-a116-173a5e69bd77",
   "metadata": {
    "scrolled": true
   },
   "outputs": [],
   "source": [
    "from IPython.display import display, Markdown, Latex\n",
    "md=Markdown('T ' + text)\n",
    "display(md)"
   ]
  }
 ],
 "metadata": {
  "kernelspec": {
   "display_name": "Python 3 (ipykernel)",
   "language": "python",
   "name": "python3"
  },
  "language_info": {
   "codemirror_mode": {
    "name": "ipython",
    "version": 3
   },
   "file_extension": ".py",
   "mimetype": "text/x-python",
   "name": "python",
   "nbconvert_exporter": "python",
   "pygments_lexer": "ipython3",
   "version": "3.12.3"
  }
 },
 "nbformat": 4,
 "nbformat_minor": 5
}
